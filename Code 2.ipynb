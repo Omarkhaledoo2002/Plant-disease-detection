{
 "cells": [
  {
   "cell_type": "code",
   "execution_count": null,
   "id": "b62160f8-535f-41d8-82f0-3cdc6825018d",
   "metadata": {},
   "outputs": [],
   "source": []
  }
 ],
 "metadata": {
  "kernelspec": {
   "display_name": "",
   "name": ""
  },
  "language_info": {
   "name": ""
  }
 },
 "nbformat": 4,
 "nbformat_minor": 5
}
